{
  "cells": [
    {
      "cell_type": "markdown",
      "metadata": {
        "colab_type": "text",
        "id": "view-in-github"
      },
      "source": [
        "<a href=\"https://colab.research.google.com/github/sleepysphere/Assigment_HME/blob/main/Vo_Minh_Duy_Assignment_HME_recognition_ColabVersion.ipynb\" target=\"_parent\"><img src=\"https://colab.research.google.com/assets/colab-badge.svg\" alt=\"Open In Colab\"/></a>"
      ]
    },
    {
      "cell_type": "code",
      "execution_count": 737,
      "metadata": {
        "colab": {
          "base_uri": "https://localhost:8080/"
        },
        "id": "2KGe_J0_GomF",
        "outputId": "aec57b39-a3cd-49a6-d4de-6cd3daaf0232"
      },
      "outputs": [
        {
          "data": {
            "text/plain": [
              "\"\\nimport kagglehub\\nntcuong2103_crohme2019_path = kagglehub.dataset_download('ntcuong2103/crohme2019')\\n\\nprint('Data source import complete.')\\n\""
            ]
          },
          "execution_count": 737,
          "metadata": {},
          "output_type": "execute_result"
        }
      ],
      "source": [
        "# IMPORTANT: RUN THIS CELL IN ORDER TO IMPORT YOUR KAGGLE DATA SOURCES,\n",
        "# THEN FEEL FREE TO DELETE THIS CELL.\n",
        "# NOTE: THIS NOTEBOOK ENVIRONMENT DIFFERS FROM KAGGLE'S PYTHON\n",
        "# ENVIRONMENT SO THERE MAY BE MISSING LIBRARIES USED BY YOUR\n",
        "# NOTEBOOK.\n",
        "'''\n",
        "import kagglehub\n",
        "ntcuong2103_crohme2019_path = kagglehub.dataset_download('ntcuong2103/crohme2019')\n",
        "\n",
        "print('Data source import complete.')\n",
        "'''\n",
        "# no need to run, uploaded from local"
      ]
    },
    {
      "cell_type": "code",
      "execution_count": 738,
      "metadata": {
        "id": "6_aX0FAXHAjT"
      },
      "outputs": [],
      "source": [
        "# If it is failed, run the above cell again to fix\n",
        "#assert ntcuong2103_crohme2019_path == \"/kaggle/input/crohme2019\"\n",
        "# no need to run, uploaded from local"
      ]
    },
    {
      "cell_type": "markdown",
      "metadata": {
        "id": "DEm0-zzfGomG"
      },
      "source": [
        "## **CROHME Temporal Sequence Classification (CROHME-CTC) Baseline**"
      ]
    },
    {
      "cell_type": "markdown",
      "metadata": {
        "id": "m_BtWPW5GomG"
      },
      "source": [
        "In this project, we will build and train a recurrent neural network (RNN) for translating handwritten mathematical expressions into sequence of symbols and relations based on Symbol Relation Tree and CROHME dataset.\n",
        "\n",
        "The model we'll be using is a simple RNN with a single layer of Bidirectional LSTM cells. We will use Connectionist Temporal Classification (CTC) loss to train the model.\n",
        "\n",
        "The model is trained on the CROHME dataset, which contains handwritten mathematical expressions in the form of Symbol Relation Trees. The dataset is preprocessed and converted into a sequence of symbols and relations, which is used as the input to the model.\n",
        "\n",
        "Your job is to feature engineer the input data and train the model to achieve the best performance possible. Additionally, consider implementing data augmentation techniques to enhance the training dataset."
      ]
    },
    {
      "cell_type": "markdown",
      "metadata": {
        "id": "neUWD9FsW3iU"
      },
      "source": [
        "Some features from the project:\n",
        "\n",
        "*   Public competition dataset: CROHME https://paperswithcode.com/dataset/crohme-2019\n",
        "*   Advance data preparation: time series feature extraction, collate function\n",
        "*   High level API of pytorch lightning\n",
        "*   Experiment tracking with Weight and Biases\n",
        "\n"
      ]
    },
    {
      "cell_type": "markdown",
      "metadata": {
        "id": "UjJVUXAGGomH"
      },
      "source": [
        "## Dependencies"
      ]
    },
    {
      "cell_type": "code",
      "execution_count": 739,
      "metadata": {
        "id": "f38o_eYpHTDP"
      },
      "outputs": [],
      "source": [
        "!pip -q install pytorch-lightning torchmetrics wandb"
      ]
    },
    {
      "cell_type": "code",
      "execution_count": 740,
      "metadata": {
        "execution": {
          "iopub.execute_input": "2025-05-20T00:25:54.116882Z",
          "iopub.status.busy": "2025-05-20T00:25:54.116606Z",
          "iopub.status.idle": "2025-05-20T00:25:54.123208Z",
          "shell.execute_reply": "2025-05-20T00:25:54.122454Z",
          "shell.execute_reply.started": "2025-05-20T00:25:54.116861Z"
        },
        "id": "vrzqHX_hGomH",
        "trusted": true
      },
      "outputs": [],
      "source": [
        "import torch\n",
        "import torch.nn as nn\n",
        "import torch.nn.functional as F\n",
        "import torch.optim as optim\n",
        "from torch.utils.data import DataLoader, Dataset\n",
        "from torchmetrics.text import EditDistance\n",
        "\n",
        "import numpy as np\n",
        "import pandas as pd\n",
        "import os\n",
        "\n",
        "import pytorch_lightning as pl\n",
        "from pytorch_lightning import Trainer\n",
        "from pytorch_lightning.callbacks import ModelCheckpoint, LearningRateMonitor\n",
        "from pytorch_lightning.loggers import TensorBoardLogger, WandbLogger\n",
        "import wandb\n",
        "\n",
        "import xml.etree.ElementTree as ET\n",
        "from torch.nn.utils.rnn import pad_sequence\n",
        "\n",
        "import matplotlib.pyplot as plt\n",
        "import math\n",
        "#from helper import *\n",
        "from collections.abc import Sequence\n",
        "from typing import Literal, Optional, Union\n",
        "\n",
        "import json"
      ]
    },
    {
      "cell_type": "code",
      "execution_count": 741,
      "metadata": {
        "execution": {
          "iopub.execute_input": "2025-05-20T00:25:59.086956Z",
          "iopub.status.busy": "2025-05-20T00:25:59.086626Z",
          "iopub.status.idle": "2025-05-20T00:25:59.238737Z",
          "shell.execute_reply": "2025-05-20T00:25:59.23784Z",
          "shell.execute_reply.started": "2025-05-20T00:25:59.08693Z"
        },
        "id": "yUw3NzxEGomH",
        "trusted": true
      },
      "outputs": [],
      "source": [
        "# mount crohme2019 -> dataset\n",
        "# !ln -s /kaggle/input/crohme2019 dataset\n",
        "\n",
        "#no need, uploaded from local already"
      ]
    },
    {
      "cell_type": "markdown",
      "metadata": {
        "id": "iwS9-TZBGomH"
      },
      "source": [
        "> The above command created a symbolic link\n",
        "> dataset -> /kaggle/input/crohme2019\n",
        ">\n",
        "> We can now access the dataset from current directory instead of /kaggle/input"
      ]
    },
    {
      "cell_type": "code",
      "execution_count": 742,
      "metadata": {
        "execution": {
          "iopub.execute_input": "2025-05-20T00:26:10.627511Z",
          "iopub.status.busy": "2025-05-20T00:26:10.627244Z",
          "iopub.status.idle": "2025-05-20T00:26:10.772621Z",
          "shell.execute_reply": "2025-05-20T00:26:10.771799Z",
          "shell.execute_reply.started": "2025-05-20T00:26:10.627492Z"
        },
        "id": "OZVH3nONGomH",
        "trusted": true
      },
      "outputs": [
        {
          "name": "stderr",
          "output_type": "stream",
          "text": [
            "Sudo is disabled on this machine. To enable it, go to the \u001b]8;;ms-settings:developers\u001b\\Developer Settings page\u001b]8;;\u001b\\ in the Settings app\n"
          ]
        },
        {
          "name": "stdout",
          "output_type": "stream",
          "text": [
            "Too many parameters - 3\n"
          ]
        }
      ],
      "source": [
        "# This code for displaying current directory tree, you don't need to run.\n",
        "\n",
        "!sudo apt-get install tree\n",
        "!tree -L 3 dataset"
      ]
    },
    {
      "cell_type": "markdown",
      "metadata": {
        "id": "VFGrDs0lI0Gw"
      },
      "source": [
        "### Overview of the dataset"
      ]
    },
    {
      "cell_type": "markdown",
      "metadata": {
        "id": "EDsGmF07IuYe"
      },
      "source": [
        "This is the folder structure of the dataset.\n",
        "\n",
        "```\n",
        "dataset\n",
        "├── crohme2019\n",
        "│   └── crohme2019\n",
        "│       ├── test\n",
        "│       ├── train\n",
        "│       └── valid\n",
        "├── crohme2019_test.txt\n",
        "├── crohme2019_train.txt\n",
        "└── crohme2019_valid.txt\n",
        "```\n",
        "\n",
        "There are two parts:\n",
        "* Inkml files: XML based files containing handwriting data (sequences of handwritten strokes) captured from the devices.\n",
        "```\n",
        "dataset\n",
        "├── crohme2019\n",
        "│   └── crohme2019\n",
        "│       ├── test\n",
        "│       ├── train\n",
        "│       └── valid\n",
        "```\n",
        "* Annotation files: Containing the labels for each input handwriting samples.\n",
        "```\n",
        "dataset\n",
        "├── crohme2019_test.txt\n",
        "├── crohme2019_train.txt\n",
        "└── crohme2019_valid.txt\n",
        "```\n"
      ]
    },
    {
      "cell_type": "markdown",
      "metadata": {
        "id": "Jz5_G7uZJWfC"
      },
      "source": [
        "> An example of inkml file, the points (x, y coords) are recorded in each trace (handwritten stroke).\n",
        "\n",
        "```\n",
        "<ink xmlns=\"http://www.w3.org/2003/InkML\">\n",
        "<traceFormat>\n",
        "<channel name=\"X\" type=\"decimal\"/>\n",
        "<channel name=\"Y\" type=\"decimal\"/>\n",
        "</traceFormat>\n",
        "...\n",
        "\n",
        "<trace id=\"0\">\n",
        "241 123, 240 123, 239 123, 238 123, 237 123, 236 123, 236 122, 237 122, 238 122, 240 122, 242 122, 244 122, 247 122, 251 121, 254 121, 257 121, 260 120, 262 120, 265 120, 266 120, 267 120, 268 120, 269 120, 268 120\n",
        "</trace>\n",
        "<trace id=\"1\">\n",
        "301 123, 300 124, 299 124, 298 124, 297 124, 296 124, 295 124, 294 124, 295 124, 296 124, 297 124, 298 124, 299 123, 301 123, 302 123, 303 123, 304 122, 305 122, 306 122, 307 122, 308 122, 310 122, 311 122, 314 122, 316 121, 317 121, 319 121, 321 121, 323 121, 328 120, 330 120, 332 120, 333 120, 335 120, 336 120, 344 119, 346 119, 348 119, 350 119, 352 119, 357 119, 358 119, 360 119, 362 119, 364 119, 365 119, 370 119, 372 119, 373 119, 374 119, 375 119, 377 119, 377 118, 376 118, 374 118, 372 118\n",
        "</trace>\n",
        "<trace id=\"2\">\n",
        "318 89, 319 89, 320 89, 321 88, 323 87, 324 86, 325 84, 326 83, 327 82, 328 80, 329 79, 330 77, 331 75, 332 74, 333 73, 333 72, 333 73, 333 75, 333 76, 333 78, 333 80, 332 81, 332 83, 332 85, 332 86, 332 88, 332 90, 332 92, 332 93, 333 95, 333 97, 333 98, 333 100, 333 101, 333 102, 333 103, 333 104, 333 103, 333 101, 332 99\n",
        "</trace>\n",
        "<trace id=\"3\">\n",
        "302 148, 301 148, 302 147, 302 146, 303 145, 304 144, 305 143, 306 142, 307 140, 308 139, 308 138, 308 137, 308 136, 308 137, 308 138, 309 139, 309 140, 309 141, 309 142, 309 144, 309 146, 309 147, 309 149, 309 151, 309 153, 309 155, 309 157, 310 159, 310 162, 310 164, 310 169, 310 171, 310 172, 310 174, 311 175, 311 179, 311 180, 311 181, 311 182, 311 181\n",
        "</trace>\n",
        "...\n",
        "\n",
        "</ink>\n",
        "\n",
        "```\n",
        "\n",
        "> An example of annotation file: left part is inkml file path, right part is the label (target) for that inkml file.\n",
        "\n",
        "```\n",
        "...\n",
        "crohme2019/test/UN19_1041_em_597.inkml\t- Right \\sqrt Inside 2\n",
        "crohme2019/test/UN19_1019_em_256.inkml\ta Right n Right y\n",
        "crohme2019/test/UN19_1033_em_474.inkml\tV Sub n Right - Right 1 NoRel = Right \\int Right d Sup n Right - Right 1 NoRel x Right \\sqrt Inside h\n",
        "\n",
        "...\n",
        "```\n",
        "\n",
        "> The label is a sequence of **symbols** and **spatial relations** between symbols (based on writing order).\n",
        "\n"
      ]
    },
    {
      "cell_type": "markdown",
      "metadata": {
        "id": "ZGmVmcPDGomI"
      },
      "source": [
        "## Task 1: Build Vocabulary\n",
        "\n",
        "Builds and manages a vocabulary for converting characters (tokens) to indices (encoding) and vice-versa (decoding). This is essential for processing text data in machine learning tasks, particularly for sequence-to-sequence models like those used in handwriting recognition or mathematical expression translation.\n",
        "\n",
        "In this project, the vocabulary is for encoding the target sequence (for example: \"- Right \\\\sqrt Inside 2\") into a sequence of indices ([5, 37, 74, 30, 10]). It is constructed from multiple annotation files (train, test, and validation sets) and includes a special blank character (this is for CTC loss). It supports encoding (tokens to indices) and decoding (indices to tokens) operations.\n",
        "\n",
        "\n",
        "> _You will need to build the `class Vocab` using the two functions provided. Also the vocabulary should be exported as a JSON file so that we can reuse it later in the dataset._\n",
        "\n",
        "***Input***: the path to the dataset files _(train, valid, and test)_.\n",
        "\n",
        "\n",
        "```python\n",
        "paths = [\n",
        "    \"dataset/crohme2019_train.txt\",\n",
        "    \"dataset/crohme2019_test.txt\",\n",
        "    \"dataset/crohme2019_valid.txt\",\n",
        "]\n",
        "```\n",
        "\n",
        "***Output***: the vocabulary.\n",
        "\n",
        "```python\n",
        "vocab = {\n",
        "    \"a\": 0,\n",
        "    \"b\": 1,\n",
        "    \"c\": 2,\n",
        "    ...\n",
        "}\n",
        "```"
      ]
    },
    {
      "cell_type": "code",
      "execution_count": 743,
      "metadata": {
        "id": "NVdsl2TqGomI",
        "trusted": true,
        "vscode": {
          "languageId": "powershell"
        }
      },
      "outputs": [
        {
          "data": {
            "text/html": [
              "<div>\n",
              "<style scoped>\n",
              "    .dataframe tbody tr th:only-of-type {\n",
              "        vertical-align: middle;\n",
              "    }\n",
              "\n",
              "    .dataframe tbody tr th {\n",
              "        vertical-align: top;\n",
              "    }\n",
              "\n",
              "    .dataframe thead th {\n",
              "        text-align: right;\n",
              "    }\n",
              "</style>\n",
              "<table border=\"1\" class=\"dataframe\">\n",
              "  <thead>\n",
              "    <tr style=\"text-align: right;\">\n",
              "      <th></th>\n",
              "      <th>path</th>\n",
              "      <th>label</th>\n",
              "    </tr>\n",
              "  </thead>\n",
              "  <tbody>\n",
              "    <tr>\n",
              "      <th>0</th>\n",
              "      <td>crohme2019/test/UN19_1032_em_455.inkml</td>\n",
              "      <td>4 Right n Right - Right 4 Right ) NoRel ( NoRe...</td>\n",
              "    </tr>\n",
              "    <tr>\n",
              "      <th>1</th>\n",
              "      <td>crohme2019/test/UN19_1044_em_632.inkml</td>\n",
              "      <td>\\phi Sub 0 NoRel = Right d Right x Sup 1 Right...</td>\n",
              "    </tr>\n",
              "    <tr>\n",
              "      <th>2</th>\n",
              "      <td>crohme2019/test/UN19wb_1111_em_1039.inkml</td>\n",
              "      <td>9 Right \\times Right 9 Right + Right 1 Right 3...</td>\n",
              "    </tr>\n",
              "    <tr>\n",
              "      <th>3</th>\n",
              "      <td>crohme2019/test/UN19_1028_em_394.inkml</td>\n",
              "      <td>\\tan Right \\alpha Right \\tan Right \\theta Sup ...</td>\n",
              "    </tr>\n",
              "    <tr>\n",
              "      <th>4</th>\n",
              "      <td>crohme2019/test/UN19_1005_em_64.inkml</td>\n",
              "      <td>a Right = NoRel 1 NoRel - Below \\sqrt Inside 2...</td>\n",
              "    </tr>\n",
              "  </tbody>\n",
              "</table>\n",
              "</div>"
            ],
            "text/plain": [
              "                                        path  \\\n",
              "0     crohme2019/test/UN19_1032_em_455.inkml   \n",
              "1     crohme2019/test/UN19_1044_em_632.inkml   \n",
              "2  crohme2019/test/UN19wb_1111_em_1039.inkml   \n",
              "3     crohme2019/test/UN19_1028_em_394.inkml   \n",
              "4      crohme2019/test/UN19_1005_em_64.inkml   \n",
              "\n",
              "                                               label  \n",
              "0  4 Right n Right - Right 4 Right ) NoRel ( NoRe...  \n",
              "1  \\phi Sub 0 NoRel = Right d Right x Sup 1 Right...  \n",
              "2  9 Right \\times Right 9 Right + Right 1 Right 3...  \n",
              "3  \\tan Right \\alpha Right \\tan Right \\theta Sup ...  \n",
              "4  a Right = NoRel 1 NoRel - Below \\sqrt Inside 2...  "
            ]
          },
          "execution_count": 743,
          "metadata": {},
          "output_type": "execute_result"
        }
      ],
      "source": [
        "paths = [\n",
        "    \"dataset/crohme2019_train.txt\",\n",
        "    \"dataset/crohme2019_test.txt\",\n",
        "    \"dataset/crohme2019_valid.txt\",\n",
        "]\n",
        "\n",
        "df = pd.read_csv(paths[1], sep=\"\\t\", header=None, names=[\"path\", \"label\"]).dropna().astype(str)\n",
        "\n",
        "df.head()"
      ]
    },
    {
      "cell_type": "code",
      "execution_count": 744,
      "metadata": {
        "id": "W5WhCEyuGomI",
        "trusted": true
      },
      "outputs": [
        {
          "data": {
            "text/plain": [
              "108"
            ]
          },
          "execution_count": 744,
          "metadata": {},
          "output_type": "execute_result"
        }
      ],
      "source": [
        "def get_unique_chars(paths) -> set:\n",
        "    res = set()\n",
        "    for i in df['label'].apply(lambda x: x.strip().split()):\n",
        "        res.update(i)\n",
        "    return res\n",
        "\n",
        "len(get_unique_chars(paths[0]))"
      ]
    },
    {
      "cell_type": "code",
      "execution_count": 745,
      "metadata": {
        "id": "AODbcsNyGomI",
        "trusted": true
      },
      "outputs": [
        {
          "data": {
            "text/plain": [
              "{'!',\n",
              " '(',\n",
              " ')',\n",
              " '+',\n",
              " '-',\n",
              " '.',\n",
              " '/',\n",
              " '0',\n",
              " '1',\n",
              " '2',\n",
              " '3',\n",
              " '4',\n",
              " '5',\n",
              " '6',\n",
              " '7',\n",
              " '8',\n",
              " '9',\n",
              " '=',\n",
              " 'A',\n",
              " 'Above',\n",
              " 'B',\n",
              " 'Below',\n",
              " 'C',\n",
              " 'COMMA',\n",
              " 'E',\n",
              " 'F',\n",
              " 'G',\n",
              " 'H',\n",
              " 'I',\n",
              " 'Inside',\n",
              " 'L',\n",
              " 'M',\n",
              " 'N',\n",
              " 'NoRel',\n",
              " 'P',\n",
              " 'R',\n",
              " 'Right',\n",
              " 'S',\n",
              " 'Sub',\n",
              " 'Sup',\n",
              " 'T',\n",
              " 'V',\n",
              " 'X',\n",
              " 'Y',\n",
              " '[',\n",
              " '\\\\Delta',\n",
              " '\\\\alpha',\n",
              " '\\\\beta',\n",
              " '\\\\cos',\n",
              " '\\\\div',\n",
              " '\\\\exists',\n",
              " '\\\\forall',\n",
              " '\\\\gamma',\n",
              " '\\\\geq',\n",
              " '\\\\gt',\n",
              " '\\\\in',\n",
              " '\\\\infty',\n",
              " '\\\\int',\n",
              " '\\\\lambda',\n",
              " '\\\\ldots',\n",
              " '\\\\leq',\n",
              " '\\\\lim',\n",
              " '\\\\log',\n",
              " '\\\\lt',\n",
              " '\\\\mu',\n",
              " '\\\\neq',\n",
              " '\\\\phi',\n",
              " '\\\\pi',\n",
              " '\\\\pm',\n",
              " '\\\\prime',\n",
              " '\\\\rightarrow',\n",
              " '\\\\sigma',\n",
              " '\\\\sin',\n",
              " '\\\\sqrt',\n",
              " '\\\\sum',\n",
              " '\\\\tan',\n",
              " '\\\\theta',\n",
              " '\\\\times',\n",
              " '\\\\{',\n",
              " '\\\\}',\n",
              " ']',\n",
              " 'a',\n",
              " 'b',\n",
              " 'c',\n",
              " 'd',\n",
              " 'e',\n",
              " 'f',\n",
              " 'g',\n",
              " 'h',\n",
              " 'i',\n",
              " 'j',\n",
              " 'k',\n",
              " 'l',\n",
              " 'm',\n",
              " 'n',\n",
              " 'o',\n",
              " 'p',\n",
              " 'q',\n",
              " 'r',\n",
              " 's',\n",
              " 't',\n",
              " 'u',\n",
              " 'v',\n",
              " 'w',\n",
              " 'x',\n",
              " 'y',\n",
              " 'z',\n",
              " '|'}"
            ]
          },
          "execution_count": 745,
          "metadata": {},
          "output_type": "execute_result"
        }
      ],
      "source": [
        "unique_chars = get_unique_chars(paths[0])\n",
        "unique_chars"
      ]
    },
    {
      "cell_type": "markdown",
      "metadata": {
        "id": "9NoRw8ZUGomI"
      },
      "source": [
        "The vocabulary should be sorted by ascii table. The first character (index 0) must be blank (`''`)."
      ]
    },
    {
      "cell_type": "code",
      "execution_count": 746,
      "metadata": {
        "id": "MSVwOtmpGomI",
        "trusted": true
      },
      "outputs": [],
      "source": [
        "def chr2idx(unique_chars: set) -> dict:\n",
        "    unique_chars.add('')\n",
        "    return {char: idx for idx, char in enumerate(sorted(unique_chars))}\n",
        "\n",
        "vocab = chr2idx(get_unique_chars(paths[0]))\n",
        "\n",
        "assert vocab[\"\"] == 0\n",
        "assert vocab[\"|\"] == 108\n",
        "assert vocab[\"\\\\pi\"] == 68\n",
        "assert vocab[\"\\\\exists\"] == 51\n",
        "assert len(vocab) == 109"
      ]
    },
    {
      "cell_type": "code",
      "execution_count": 747,
      "metadata": {
        "id": "omyRuj9FGomJ",
        "trusted": true
      },
      "outputs": [],
      "source": [
        "class Vocab:\n",
        "    \"\"\"\n",
        "\n",
        "    Attributes:\n",
        "        paths (list): A list of file paths to the annotation files.\n",
        "        char2idx (dict): A dictionary mapping characters to their corresponding indices.  This is the primary vocabulary.\n",
        "        idx2char (dict): A reverse mapping from indices to characters, facilitating decoding.\n",
        "\n",
        "    Methods:\n",
        "        build_vocab(): Builds the vocabulary from the specified annotation files, sorting characters lexicographically and adding a blank character.\n",
        "        get_vocab(): Returns the character-to-index vocabulary.\n",
        "        save_vocab(path): Saves the vocabulary to a JSON file.\n",
        "        encode(tokens): Converts a list of tokens (characters) into a list of their corresponding indices.\n",
        "        decode(ids): Converts a list of indices back into a list of tokens (characters).\n",
        "    \"\"\"\n",
        "    def __init__(self, vocab_file=None):\n",
        "        self.char2idx = {}\n",
        "        if vocab_file is not None:\n",
        "            self.char2idx = json.load(open(vocab_file))\n",
        "        self.idx2char = {v: k for k, v in self.char2idx.items()}\n",
        "\n",
        "    def build_vocab(self, paths) -> None:\n",
        "        # TODO: build vocab from all annotation files\n",
        "        vocab = {}\n",
        "        \n",
        "        res = set()\n",
        "        for i in paths:\n",
        "            df = pd.read_csv(i, sep=\"\\t\", header=None, names=[\"path\", \"label\"]).dropna().astype(str)\n",
        "            for j in df['label'].apply(lambda x: x.strip().split()):\n",
        "                res.update(j)\n",
        "        res.add('')\n",
        "        sorted_chars = sorted(res) \n",
        "\n",
        "        for idx, char in enumerate(sorted_chars): \n",
        "            vocab[char] = idx\n",
        "\n",
        "        # assign vocab to the class\n",
        "        self.char2idx = vocab\n",
        "        return self.char2idx\n",
        "\n",
        "    def get_vocab(self) -> dict:  # getter\n",
        "        return self.char2idx\n",
        "\n",
        "    def save_vocab(self, path: str) -> None:  # save vocab to json file\n",
        "        with open(path, 'w') as f:\n",
        "            json.dump(self.char2idx, f)\n",
        "\n",
        "    def encode(self, tokens):\n",
        "        return [self.char2idx[token] for token in tokens]\n",
        "\n",
        "    def decode(self, ids):\n",
        "        return [self.idx2char[id] for id in ids]\n"
      ]
    },
    {
      "cell_type": "code",
      "execution_count": 748,
      "metadata": {
        "id": "_LyrowJQGomJ",
        "trusted": true
      },
      "outputs": [],
      "source": [
        "# CHECKPOINT: build vocab from annotations\n",
        "annotations = [\n",
        "    \"dataset/crohme2019_train.txt\",\n",
        "    \"dataset/crohme2019_test.txt\",\n",
        "    \"dataset/crohme2019_valid.txt\",\n",
        "]\n",
        "\n",
        "vocab = Vocab()\n",
        "vocab.build_vocab(annotations)\n",
        "vocab.save_vocab('vocab.json')"
      ]
    },
    {
      "cell_type": "code",
      "execution_count": 749,
      "metadata": {
        "id": "2TIxQUHWGomJ",
        "trusted": true
      },
      "outputs": [],
      "source": [
        "# TEST: vocab class loaded from prebuilt JSON\n",
        "vocab = Vocab('vocab.json')\n",
        "\n",
        "# encoding a sequence\n",
        "input = '- Right \\\\sqrt Inside 2'.split()\n",
        "\n",
        "assert vocab.encode(input) == [5, 37, 74, 30, 10]\n",
        "assert vocab.decode(vocab.encode(input)) == input"
      ]
    },
    {
      "cell_type": "markdown",
      "metadata": {
        "id": "Uw6QUu6EGomJ"
      },
      "source": [
        "## Task 2: Build Dataset\n",
        "\n",
        "In this task, we will build a dataset class that will be used to load the dataset files _(train, valid, and test)_.\n",
        "\n",
        "The dataset class will also be used to preprocess the data by converting the characters in the data to integers using the vocabulary.\n",
        "\n",
        "> _Before going to this task, it is **highly recommended** to read this [Tutorial on creating Custom Dataset](https://pytorch.org/tutorials/beginner/basics/data_tutorial.html#creating-a-custom-dataset-for-your-files) with PyTorch._\n",
        ">\n",
        "> _You should have basic understanding of required methods in the Dataset class such as `__init__`, `__len__`, and `__getitem__`._\n",
        "\n",
        "\n",
        "***Input***: Dataset class should take the following arguments:.\n",
        "\n",
        "- `annotation`: the path to the dataset annotation *(`.txt`)*.\n",
        "- `root_dir`: the root directory of the dataset file.\n",
        "- `vocab`: the vocabulary.\n",
        "\n",
        "***Output***: the dataset class.\n",
        "\n",
        "> *Note: You can adjust the Dataset class base on your references.*\n"
      ]
    },
    {
      "cell_type": "markdown",
      "metadata": {
        "id": "PomjANK6GomJ"
      },
      "source": [
        "### Dataflow\n",
        "Below is a typical dataflow to train a model.\n",
        "```mermaid\n",
        "flowchart LR\n",
        "    A[Raw Data] --> |parse| B[Cleaned Data]\n",
        "    B --> |feature engineering| C[Dataset]\n",
        "    C --> |package| D[DataLoader]\n",
        "    D --> |load| E[Model]\n",
        "    E --> |predict| F[Output]\n",
        "    F --> |calculate| G[Loss]\n",
        "    G --> |backpropagate| E\n",
        "```"
      ]
    },
    {
      "cell_type": "markdown",
      "metadata": {
        "id": "r9zozRQ8GomJ"
      },
      "source": [
        "### Handling Inkml files\n",
        "\n",
        "We have an inkml file: `crohme2019/test/UN19_1041_em_597.inkml`\n",
        "\n",
        "Its label is `- Right \\sqrt Inside 2`\n",
        "\n",
        "Target would be: `[5, 37, 74, 30, 10]`, where the index here is the index of tokens (from a vocabulary)\n",
        "\n",
        "We provided you with class `Inkml` to handle the parsing and processing of the inkml files. The main method you will use is `getTraces()` which returns the traces of the inkml file.\n",
        "\n",
        "> _Inspect this class and understand how you should be working with this type of data._\n",
        "\n",
        "```python"
      ]
    },
    {
      "cell_type": "code",
      "execution_count": 750,
      "metadata": {
        "id": "hkOSwWi0GomJ",
        "trusted": true
      },
      "outputs": [],
      "source": [
        "class Segment(object):\n",
        "    \"\"\"Class to reprsent a Segment compound of strokes (id) with an id and label.\"\"\"\n",
        "\n",
        "    __slots__ = (\"id\", \"label\", \"strId\")\n",
        "\n",
        "    def __init__(self, *args):\n",
        "        if len(args) == 3:\n",
        "            self.id = args[0]\n",
        "            self.label = args[1]\n",
        "            self.strId = args[2]\n",
        "        else:\n",
        "            self.id = \"none\"\n",
        "            self.label = \"\"\n",
        "            self.strId = set([])\n",
        "\n",
        "\n",
        "class Inkml(object):\n",
        "    \"\"\"Class to represent an INKML file with strokes, segmentation and labels\"\"\"\n",
        "\n",
        "    __slots__ = (\"fileName\", \"strokes\", \"strkOrder\", \"segments\", \"truth\", \"UI\")\n",
        "\n",
        "    NS = {\n",
        "        \"ns\": \"http://www.w3.org/2003/InkML\",\n",
        "        \"xml\": \"http://www.w3.org/XML/1998/namespace\",\n",
        "    }\n",
        "\n",
        "    def __init__(self, *args):\n",
        "        self.fileName = None\n",
        "        self.strokes = {}\n",
        "        self.strkOrder = []\n",
        "        self.segments = {}\n",
        "        self.truth = \"\"\n",
        "        self.UI = \"\"\n",
        "        if len(args) == 1:\n",
        "            self.fileName = args[0]\n",
        "            self.loadFromFile()\n",
        "\n",
        "    def fixNS(self, ns, att):\n",
        "        \"\"\"Build the right tag or element name with namespace\"\"\"\n",
        "        return \"{\" + Inkml.NS[ns] + \"}\" + att\n",
        "\n",
        "    def loadFromFile(self):\n",
        "        \"\"\"load the ink from an inkml file (strokes, segments, labels)\"\"\"\n",
        "        tree = ET.parse(self.fileName)\n",
        "        # # ET.register_namespace();\n",
        "        root = tree.getroot()\n",
        "        for info in root.findall(\"ns:annotation\", namespaces=Inkml.NS):\n",
        "            if \"type\" in info.attrib:\n",
        "                if info.attrib[\"type\"] == \"truth\":\n",
        "                    self.truth = info.text.strip()\n",
        "                if info.attrib[\"type\"] == \"UI\":\n",
        "                    self.UI = info.text.strip()\n",
        "        for strk in root.findall(\"ns:trace\", namespaces=Inkml.NS):\n",
        "            self.strokes[strk.attrib[\"id\"]] = strk.text.strip()\n",
        "            self.strkOrder.append(strk.attrib[\"id\"])\n",
        "        segments = root.find(\"ns:traceGroup\", namespaces=Inkml.NS)\n",
        "        if segments is None or len(segments) == 0:\n",
        "            return\n",
        "        for seg in segments.iterfind(\"ns:traceGroup\", namespaces=Inkml.NS):\n",
        "            id = seg.attrib[self.fixNS(\"xml\", \"id\")]\n",
        "            label = seg.find(\"ns:annotation\", namespaces=Inkml.NS).text\n",
        "            strkList = set([])\n",
        "            for t in seg.findall(\"ns:traceView\", namespaces=Inkml.NS):\n",
        "                strkList.add(t.attrib[\"traceDataRef\"])\n",
        "            self.segments[id] = Segment(id, label, strkList)\n",
        "\n",
        "    def getTraces(self, height=256):\n",
        "        traces_array = [\n",
        "            np.array(\n",
        "                [p.strip().split() for p in self.strokes[id].split(\",\")], dtype=\"float\"\n",
        "            )\n",
        "            for id in self.strkOrder\n",
        "        ]\n",
        "\n",
        "        ratio = height / (\n",
        "            (\n",
        "                np.concatenate(traces_array, 0).max(0)\n",
        "                - np.concatenate(traces_array, 0).min(0)\n",
        "            )[1]\n",
        "            + 1e-6\n",
        "        )\n",
        "        return [(trace * ratio).astype(int).tolist() for trace in traces_array]\n",
        "\n",
        "    def view(self):\n",
        "        plt.figure(figsize = (16, 4))\n",
        "        plt.axis(\"off\")\n",
        "        for trace in self.getTraces():\n",
        "            trace_arr = np.array(trace)\n",
        "            plt.plot(trace_arr[:, 0], -trace_arr[:, 1])  # invert y coordinate"
      ]
    },
    {
      "cell_type": "code",
      "execution_count": 751,
      "metadata": {
        "colab": {
          "base_uri": "https://localhost:8080/",
          "height": 240
        },
        "id": "c3ofnZJ7GomJ",
        "outputId": "1fbb2f12-7075-4f51-c5b9-e9985bfe2075",
        "trusted": true
      },
      "outputs": [
        {
          "data": {
            "image/png": "[encoded data removed]",
            "text/plain": [
              "<Figure size 1600x400 with 1 Axes>"
            ]
          },
          "metadata": {},
          "output_type": "display_data"
        }
      ],
      "source": [
        "inkml_path = 'dataset/crohme2019/crohme2019/test/ISICal19_1201_em_758.inkml'\n",
        "ink = Inkml(inkml_path)\n",
        "ink.view()"
      ]
    },
    {
      "cell_type": "code",
      "execution_count": 752,
      "metadata": {
        "id": "_EsBxMv1GomJ",
        "trusted": true
      },
      "outputs": [
        {
          "data": {
            "text/plain": [
              "[(81, 2), (17, 2), (34, 2), (17, 2), (59, 2)]"
            ]
          },
          "execution_count": 752,
          "metadata": {},
          "output_type": "execute_result"
        }
      ],
      "source": [
        "# Display shapes of first 5 traces in one file\n",
        "\n",
        "[np.array(trace).shape for trace in ink.getTraces()][:5]"
      ]
    },
    {
      "cell_type": "markdown",
      "metadata": {
        "id": "52ybjkd4GomJ"
      },
      "source": [
        "> **REMARK**: _Some Inkml may return (x, y, t) coordinates, while most of them return (x, y) coordinates. Make sure to handle this inconsistency in your implementation._"
      ]
    },
    {
      "cell_type": "markdown",
      "metadata": {
        "id": "G9dQJ7TTGomJ"
      },
      "source": [
        "### Build Dataset\n",
        "\n",
        "For calculating the Connectionist Temporal Classification (CTC) loss, read the [expected output](https://pytorch.org/docs/stable/generated/torch.nn.CTCLoss.html) of this loss function from PyTorch.\n",
        "\n",
        "> _Hint: focus on the shapes and the expected variables. (see code example for calculating loss)_\n",
        "> ```python\n",
        "> loss = ctc_loss(input_tensor, target_tensor, input_lengths, target_lengths)\n",
        "> ```\n",
        "\n",
        "**Base on the observation, how can we build a dataset class from the dataset files?**\n",
        "\n",
        "> Hints:\n",
        ">   - *Understand the big picture. (Dataflow)*\n",
        ">   - *What informations needed to calculate our Loss?*\n",
        ">   - *What should be returned in the `__getitem__` method?*\n",
        ">   - *The outputs should be of Tensor type*\n",
        "   \n",
        "***References from pytorch [tutorials](https://pytorch.org/tutorials/beginner/data_loading_tutorial.html)***\n",
        "\n",
        "`torch.utils.data.Dataset` is an abstract class representing a dataset. Your custom dataset should inherit `Dataset` and override the following methods:\n",
        "\n",
        "- `__len__` so that `len(dataset)` returns the size of the dataset.\n",
        "\n",
        "- `__getitem__` to support the indexing such that `dataset[i]` can be used to get ith sample.\n"
      ]
    },
    {
      "cell_type": "markdown",
      "metadata": {
        "id": "3ugfZokVGomK"
      },
      "source": [
        "### Feature representation\n",
        "\n",
        "In this task, we will convert the strokes into feature representations that can be used by the model.\n",
        "\n",
        "Initially, the `.getTraces()` method returns list of strokes, where each stroke is a list of (x, y) coordinates. Intuitively, we can use those coordinates as features. But if directly using the coordinates as features, the model will have a hard time learning the patterns.\n",
        "\n",
        "Instead, we can calculate the difference *(∆d)* between consecutive coordinates as features. This way, the model can learn the patterns more easily.\n",
        "\n",
        "$\\Delta_x = x_{i+1} - x_i$ and $\\Delta_y = y_{i+1} - y_i$\n",
        "\n",
        "The feature would then be normalized as\n",
        "\n",
        "($\\frac{\\Delta_x}{d}$ , $\\frac{\\Delta_y} {d}$), where $d = \\sqrt{\\Delta_x^2 + \\Delta_y^2}$\n",
        "\n",
        "**Pen-up and Pen-down**\n",
        "\n",
        "In the dataset, each stroke is separated by a pen-up event. We can use this information to separate the strokes.\n",
        "\n",
        "1. The pen is lifted from the paper (connecting the end of a stroke to the start of a stroke): $pen\\_up = 1$\n",
        "2. The pen is on the paper: $pen\\_up = 0$\n",
        "\n",
        "Then, our feature representation would be:\n",
        "($\\frac{\\Delta_x}{d}$ , $\\frac{\\Delta_y} {d}$, $d$, $pen\\_up$)\n",
        "\n",
        "\n",
        "```\n",
        "point 1: (x1, y1)\n",
        "point 2: (x2, y2)\n",
        "point 3: (x3, y3) <--- end of stroke #1\n",
        "point 4: (x4, y4) <--- start of stroke #2\n",
        "...\n",
        "point n: (xn, yn)\n",
        "```\n",
        "\n",
        "The feature representation will be:\n",
        "\n",
        "```\n",
        "f1 = ((x2 - x1) / d, (y2 - y1)/d, d, 0)\n",
        "f2 = ((x3 - x2) / d, (y3 - y2)/d, d, 0)\n",
        "f3 = ((x4 - x3) / d, (y4 - y3)/d, d, 1) <-- pen up\n",
        "...\n",
        "fn-1 = ((xn - xn-1) / d, (yn - yn-1)/d, d, 0)\n",
        "```"
      ]
    },
    {
      "cell_type": "markdown",
      "metadata": {
        "id": "_LJH9zHvGomK"
      },
      "source": [
        "#### **CHECK LIST**\n",
        "\n",
        "For each data sample, we will do the following steps\n",
        "- Combine all the strokes into a single stroke (N, 2)\n",
        "- Compute first order differences of x and y coordinates\n",
        "- Remove any zero length strokes\n",
        "- Compute Euclidean distances between consecutive points\n",
        "- Normalize the x and y coordinates by Euclidean distance\n",
        "- Add feature pen-up/pen-down\n",
        "> *Features of transformed data: (delta traces, distance, pen_up_down)*\n",
        "\n",
        "Label\n",
        "- Define label (list of indices of the words)\n",
        "\n",
        "Finally, we will convert the data and label to PyTorch tensors.\n",
        "- Convert data and label to PyTorch tensors"
      ]
    },
    {
      "cell_type": "code",
      "execution_count": 753,
      "metadata": {
        "id": "Lyx5HT98GomK",
        "trusted": true
      },
      "outputs": [],
      "source": [
        "class InkmlDataset(Dataset):\n",
        "    def __init__(self, annotation, root_dir, vocab):\n",
        "        \"\"\"\n",
        "        Arguments:\n",
        "            annotation (string): annotation file txt.\n",
        "            root_dir (string): directory holds the dataset.\n",
        "            vocab (set): of vocab.\n",
        "        \"\"\"\n",
        "        self.annotation = annotation\n",
        "        self.root_dir = root_dir\n",
        "        self.vocab = vocab\n",
        "\n",
        "        # load annotations\n",
        "        self.inks = []\n",
        "        self.labels = []\n",
        "\n",
        "        if isinstance(annotation, str):\n",
        "            annotation = [annotation]\n",
        "        self.annotation_files = annotation\n",
        "\n",
        "        for ann_path in self.annotation_files:\n",
        "            df = pd.read_csv(ann_path, sep=\"\\t\", header=None, names=[\"path\", \"label\"]).dropna().astype(str)\n",
        "            for _, row in df.iterrows():\n",
        "                inkml_path = os.path.join(self.root_dir, row[\"path\"])\n",
        "                self.inks.append(Inkml(inkml_path))\n",
        "                self.labels.append(self.vocab.encode(row[\"label\"].strip().split()))  # Encode label as indices\n",
        "        \n",
        "        # your code for create self.inks and self.labels from the annotation file\n",
        "\n",
        "    def __len__(self):\n",
        "        \"\"\"This code should return the number of samples in the dataset\"\"\"\n",
        "        return len(self.labels)\n",
        "\n",
        "    def __getitem__(self, idx):\n",
        "        \"\"\"This code should return the idx-th sample in the dataset\"\"\"\n",
        "        ink = self.inks[idx]\n",
        "        label = self.labels[idx]\n",
        "\n",
        "        ink_content = Inkml(ink)\n",
        "        traces = ink_content.getTraces()\n",
        "\n",
        "        # Apply augmentation to traces (this will normalize coordinates internally)\n",
        "        traces = self.apply_augmentation(traces)\n",
        "\n",
        "        combined_stroke = []\n",
        "        pen_up_markers = []\n",
        "\n",
        "        for stroke_id, stroke in enumerate(traces):\n",
        "            if not stroke:\n",
        "                continue\n",
        "\n",
        "            for point in stroke:\n",
        "                # Ensure we always get exactly 2 coordinates (x, y)\n",
        "                if len(point) >= 2:\n",
        "                    # Take only x, y coordinates\n",
        "                    combined_stroke.append([float(point[0]), float(point[1])])\n",
        "                    pen_up_markers.append(0)\n",
        "                else:\n",
        "                    continue\n",
        "\n",
        "            # Mark pen-up for last point of each stroke (except final stroke)\n",
        "            if stroke_id < len(traces) - 1 and len(combined_stroke) > 0:\n",
        "                pen_up_markers[-1] = 1\n",
        "\n",
        "        # arrays conversion\n",
        "        pt_array = np.array(combined_stroke, dtype=np.float32)\n",
        "        pen_up_pts = np.array(pen_up_markers, dtype=np.float32)\n",
        "\n",
        "        # differences\n",
        "        delta = np.diff(pt_array, axis=0)\n",
        "        pen_up_diffs = pen_up_pts[1:]\n",
        "\n",
        "        # Calculate distances and filter\n",
        "        e_dist = np.sqrt(np.sum(delta**2, axis=1))\n",
        "        non_zero_mask = (e_dist > 1e-8)\n",
        "\n",
        "        # Remove 0-length strokes\n",
        "        delta = delta[non_zero_mask]\n",
        "        e_dist = e_dist[non_zero_mask]\n",
        "        pen_up_feature = pen_up_diffs[non_zero_mask]\n",
        "\n",
        "        e_dist_safe = np.maximum(e_dist, 1e-8)\n",
        "        normal_delta = delta / e_dist_safe[:, np.newaxis]\n",
        "        pen_up_feature = pen_up_feature[:, np.newaxis]\n",
        "\n",
        "        input_features = np.concatenate((\n",
        "            normal_delta,\n",
        "            e_dist[:, np.newaxis],\n",
        "            pen_up_feature\n",
        "        ), axis=1)\n",
        "\n",
        "        # Convert to tensors\n",
        "        input_tensor = torch.from_numpy(input_features).float()\n",
        "        input_len = torch.tensor(input_features.shape[0], dtype=torch.long)\n",
        "\n",
        "        # Encode label tokens to indices\n",
        "        target_indices = self.vocab.encode(label)\n",
        "        target_tensor = torch.tensor(target_indices, dtype=torch.long)\n",
        "        label_len = torch.tensor(len(target_indices), dtype=torch.long)\n",
        "        # TODO: feature engineering and return the correct data.\n",
        "        return input_tensor, target_tensor, input_len, label_len"
      ]
    },
    {
      "cell_type": "code",
      "execution_count": 754,
      "metadata": {},
      "outputs": [
        {
          "name": "stdout",
          "output_type": "stream",
          "text": [
            "(3444, 2) (3444,) (3444,)\n",
            "(3444, 4)\n",
            "(614, 4)\n"
          ]
        },
        {
          "data": {
            "image/png": "[encoded data removed]",
            "text/plain": [
              "<Figure size 1600x400 with 1 Axes>"
            ]
          },
          "metadata": {},
          "output_type": "display_data"
        }
      ],
      "source": [
        "def feature_extraction(traces):\n",
        "    feature = np.empty(1)\n",
        "\n",
        "    # get lengths of each traces\n",
        "    trace_lengths = [len(trace) for trace in traces]\n",
        "\n",
        "    # cumulative sum of the lengths\n",
        "    cum_trace_lengths = np.cumsum(trace_lengths)\n",
        "\n",
        "    # number of points\n",
        "    n_points = cum_trace_lengths[-1]\n",
        "\n",
        "    # create pen-up/down features\n",
        "    pen_up_down_feature = np.zeros(n_points - 1)\n",
        "\n",
        "    pen_up_down_feature[cum_trace_lengths[:-1] - 1 ] = 1\n",
        "\n",
        "\n",
        "    # - Combine all the strokes into a single stroke (N, 2)\n",
        "    traces = np.concatenate(traces)\n",
        "\n",
        "    # - Compute first order differences of x and y coordinates\n",
        "    # deltas = np.diff(traces, axis=0)\n",
        "    deltas = traces[1:] - traces[:-1] # delta_x, delta_y\n",
        "\n",
        "    # print(deltas.shape) (3444, 2)\n",
        "    # shape of deltas?\n",
        "\n",
        "    # - Compute Euclidean distances between consecutive points\n",
        "    distances = np.sqrt( np.sum(deltas * deltas, axis=1) )\n",
        "\n",
        "    print (deltas.shape, distances.shape, pen_up_down_feature.shape)\n",
        "    # concatenate features\n",
        "    feature_concatenate = np.concatenate([deltas, distances[:, np.newaxis],\n",
        "                                          pen_up_down_feature[:,np.newaxis]], axis=1)\n",
        "    print(feature_concatenate.shape)\n",
        "    # - Remove any zero-length distances between points\n",
        "\n",
        "    # find index with zero-length distances\n",
        "    # print(np.where(feature_concatenate[:, 2]  == 0)[0].shape)\n",
        "\n",
        "    feature_without_zero_length = feature_concatenate[np.where(feature_concatenate[:, 2]  != 0)]\n",
        "    print(feature_without_zero_length.shape)\n",
        "\n",
        "    # feature_without_zero_length = np.delete(feature_concatenate, np.where(feature_concatenate[:, 2]  == 0)[0], axis=0)\n",
        "    # print(feature_without_zero_length.shape)\n",
        "\n",
        "\n",
        "    # - Normalize the x and y coordinates by Euclidean distance\n",
        "    # (delta_x/d, delta_y/d, d, pen_up)\n",
        "    feature_normalized = feature_without_zero_length.copy()\n",
        "    # feature_normalized[:, 0] /= feature_without_zero_length[:, 2]\n",
        "    # feature_normalized[:, 1] /= feature_without_zero_length[:, 2]\n",
        "    feature_normalized[:, :2] /= feature_without_zero_length[:, 2][:, np.newaxis] # broadcasting (3444, 2) / (3444, 1)\n",
        "    feature = feature_normalized\n",
        "    # print(feature_normalized[:20, :])\n",
        "\n",
        "    return feature\n",
        "\n",
        "\n",
        "# test code for feature extraction\n",
        "\n",
        "\n",
        "inkml_path = 'dataset/crohme2019/crohme2019/valid/18_em_0.inkml'\n",
        "ink = Inkml(inkml_path)\n",
        "ink.view()\n",
        "\n",
        "traces = ink.getTraces()\n",
        "feature = feature_extraction(traces)\n",
        "\n",
        "\n",
        "import numpy.testing as npt\n",
        "assert feature.shape == (614, 4)\n",
        "npt.assert_allclose(feature[:, :3].mean(axis=0), np.array([ 0.17677799,  0.29519369, 11.35540311]))\n",
        "npt.assert_allclose(feature[:,:3].var(axis=0), np.array([3.75390418e-01, 5.06219812e-01, 4.19017361e+02])\n",
        ")\n"
      ]
    },
    {
      "cell_type": "markdown",
      "metadata": {
        "id": "O3GGK6yRGomK"
      },
      "source": [
        "## Task 3: Build Lightning Data Module via Dataloader\n",
        "\n",
        "Revise [this tutorial](https://pytorch.org/tutorials/beginner/basics/data_tutorial.html#preparing-your-data-for-training-with-dataloaders) to see how you can prepare your data for training with DataLoader.\n",
        "\n",
        "Then refer to this [documentation](https://pytorch.org/docs/stable/data.html#loading-batched-and-non-batched-data) to understand how DataLoader in PyTorch loads Batched or Non-Batched data.\n",
        "\n",
        "> **TASK:** Write the dataloader with custom collate function to pad the input and target sequence\n",
        "\n",
        "For a better understanding of the importance of handling variable-length sequences in deep learning models, it is crucial to format and pad the data appropriately to ensure consistency during training. Learn more about this topic [here](https://plainenglish.io/blog/understanding-collate-fn-in-pytorch-f9d1742647d3).\n",
        "\n",
        "> _**Hint 1**: use `torch.nn.utils.rnn.pad_sequence` to pad the input and target sequences. Read more about this function [here](https://pytorch.org/docs/stable/generated/torch.nn.utils.rnn.pad_sequence.html)._\n",
        "\n",
        "> _**Hint 2**: read Example 3 from this [tutorial](https://www.programiz.com/python-programming/methods/built-in/zip) to unpack data using `zip()`._"
      ]
    },
    {
      "cell_type": "code",
      "execution_count": 755,
      "metadata": {
        "id": "MsUUX0j0GomK",
        "trusted": true
      },
      "outputs": [],
      "source": [
        "def collate_fn(batch):\n",
        "    \"\"\"Create batch\"\"\"\n",
        "    # TODO: your custom colate function here\n",
        "\n",
        "    features, labels, input_lens, label_lens = zip(*batch)\n",
        "    features = nn.utils.rnn.pad_sequence(features, batch_first=True)\n",
        "    labels = nn.utils.rnn.pad_sequence(labels, batch_first=True) # (N, S)\n",
        "    # features, labels, input_lens, label_lens should be torch.tensor\n",
        "    input_lens = torch.stack(input_lens)\n",
        "    label_lens = torch.stack(label_lens)\n",
        "\n",
        "    # features, labels, input_lens, label_lens should be torch.tensor\n",
        "    return features, labels, input_lens, label_lens"
      ]
    },
    {
      "cell_type": "code",
      "execution_count": 756,
      "metadata": {
        "id": "Z-eUDB9mGomK",
        "trusted": true
      },
      "outputs": [
        {
          "name": "stderr",
          "output_type": "stream",
          "text": [
            "<>:2: SyntaxWarning: invalid escape sequence '\\V'\n",
            "<>:3: SyntaxWarning: invalid escape sequence '\\V'\n",
            "<>:2: SyntaxWarning: invalid escape sequence '\\V'\n",
            "<>:3: SyntaxWarning: invalid escape sequence '\\V'\n",
            "C:\\Users\\Dell\\AppData\\Local\\Temp\\ipykernel_4724\\792507706.py:2: SyntaxWarning: invalid escape sequence '\\V'\n",
            "  annotation=[\"D:\\VGU\\Year 2\\Intro_to_DS_AI\\HME\\Assigment_HME\\dataset\\crohme2019_train.txt\"],\n",
            "C:\\Users\\Dell\\AppData\\Local\\Temp\\ipykernel_4724\\792507706.py:3: SyntaxWarning: invalid escape sequence '\\V'\n",
            "  root_dir=\"D:\\VGU\\Year 2\\Intro_to_DS_AI\\HME\\Assigment_HME\\dataset\\crohme2019_train.txt\",\n",
            "C:\\Users\\Dell\\AppData\\Local\\Temp\\ipykernel_4724\\792507706.py:2: SyntaxWarning: invalid escape sequence '\\V'\n",
            "  annotation=[\"D:\\VGU\\Year 2\\Intro_to_DS_AI\\HME\\Assigment_HME\\dataset\\crohme2019_train.txt\"],\n",
            "C:\\Users\\Dell\\AppData\\Local\\Temp\\ipykernel_4724\\792507706.py:3: SyntaxWarning: invalid escape sequence '\\V'\n",
            "  root_dir=\"D:\\VGU\\Year 2\\Intro_to_DS_AI\\HME\\Assigment_HME\\dataset\\crohme2019_train.txt\",\n"
          ]
        },
        {
          "ename": "FileNotFoundError",
          "evalue": "[Errno 2] No such file or directory: 'D:\\\\VGU\\\\Year 2\\\\Intro_to_DS_AI\\\\HME\\\\Assigment_HME\\\\dataset\\\\crohme2019_train.txt\\\\crohme2019/train/MfrDB2372.inkml'",
          "output_type": "error",
          "traceback": [
            "\u001b[31m---------------------------------------------------------------------------\u001b[39m",
            "\u001b[31mFileNotFoundError\u001b[39m                         Traceback (most recent call last)",
            "\u001b[36mCell\u001b[39m\u001b[36m \u001b[39m\u001b[32mIn[756]\u001b[39m\u001b[32m, line 1\u001b[39m\n\u001b[32m----> \u001b[39m\u001b[32m1\u001b[39m dataset = \u001b[43mInkmlDataset\u001b[49m\u001b[43m(\u001b[49m\n\u001b[32m      2\u001b[39m \u001b[43m    \u001b[49m\u001b[43mannotation\u001b[49m\u001b[43m=\u001b[49m\u001b[43m[\u001b[49m\u001b[33;43m\"\u001b[39;49m\u001b[33;43mD:\u001b[39;49m\u001b[33;43m\\\u001b[39;49m\u001b[33;43mVGU\u001b[39;49m\u001b[33;43m\\\u001b[39;49m\u001b[33;43mYear 2\u001b[39;49m\u001b[33;43m\\\u001b[39;49m\u001b[33;43mIntro_to_DS_AI\u001b[39;49m\u001b[33;43m\\\u001b[39;49m\u001b[33;43mHME\u001b[39;49m\u001b[33;43m\\\u001b[39;49m\u001b[33;43mAssigment_HME\u001b[39;49m\u001b[33;43m\\\u001b[39;49m\u001b[33;43mdataset\u001b[39;49m\u001b[33;43m\\\u001b[39;49m\u001b[33;43mcrohme2019_train.txt\u001b[39;49m\u001b[33;43m\"\u001b[39;49m\u001b[43m]\u001b[49m\u001b[43m,\u001b[49m\n\u001b[32m      3\u001b[39m \u001b[43m    \u001b[49m\u001b[43mroot_dir\u001b[49m\u001b[43m=\u001b[49m\u001b[33;43m\"\u001b[39;49m\u001b[33;43mD:\u001b[39;49m\u001b[33;43m\\\u001b[39;49m\u001b[33;43mVGU\u001b[39;49m\u001b[33;43m\\\u001b[39;49m\u001b[33;43mYear 2\u001b[39;49m\u001b[33;43m\\\u001b[39;49m\u001b[33;43mIntro_to_DS_AI\u001b[39;49m\u001b[33;43m\\\u001b[39;49m\u001b[33;43mHME\u001b[39;49m\u001b[33;43m\\\u001b[39;49m\u001b[33;43mAssigment_HME\u001b[39;49m\u001b[33;43m\\\u001b[39;49m\u001b[33;43mdataset\u001b[39;49m\u001b[33;43m\\\u001b[39;49m\u001b[33;43mcrohme2019_train.txt\u001b[39;49m\u001b[33;43m\"\u001b[39;49m\u001b[43m,\u001b[49m\n\u001b[32m      4\u001b[39m \u001b[43m    \u001b[49m\u001b[43mvocab\u001b[49m\u001b[43m=\u001b[49m\u001b[43mvocab\u001b[49m\n\u001b[32m      5\u001b[39m \u001b[43m)\u001b[49m\n\u001b[32m      6\u001b[39m features, labels, input_lens, label_lens = collate_fn([dataset[\u001b[32m0\u001b[39m], dataset[\u001b[32m1\u001b[39m]])\n\u001b[32m      8\u001b[39m \u001b[38;5;28;01mimport\u001b[39;00m\u001b[38;5;250m \u001b[39m\u001b[34;01mnumpy\u001b[39;00m\u001b[34;01m.\u001b[39;00m\u001b[34;01mtesting\u001b[39;00m\u001b[38;5;250m \u001b[39m\u001b[38;5;28;01mas\u001b[39;00m\u001b[38;5;250m \u001b[39m\u001b[34;01mnpt\u001b[39;00m\n",
            "\u001b[36mCell\u001b[39m\u001b[36m \u001b[39m\u001b[32mIn[753]\u001b[39m\u001b[32m, line 25\u001b[39m, in \u001b[36mInkmlDataset.__init__\u001b[39m\u001b[34m(self, annotation, root_dir, vocab)\u001b[39m\n\u001b[32m     23\u001b[39m \u001b[38;5;28;01mfor\u001b[39;00m _, row \u001b[38;5;129;01min\u001b[39;00m df.iterrows():\n\u001b[32m     24\u001b[39m     inkml_path = os.path.join(\u001b[38;5;28mself\u001b[39m.root_dir, row[\u001b[33m\"\u001b[39m\u001b[33mpath\u001b[39m\u001b[33m\"\u001b[39m])\n\u001b[32m---> \u001b[39m\u001b[32m25\u001b[39m     \u001b[38;5;28mself\u001b[39m.inks.append(\u001b[43mInkml\u001b[49m\u001b[43m(\u001b[49m\u001b[43minkml_path\u001b[49m\u001b[43m)\u001b[49m)\n\u001b[32m     26\u001b[39m     \u001b[38;5;28mself\u001b[39m.labels.append(\u001b[38;5;28mself\u001b[39m.vocab.encode(row[\u001b[33m\"\u001b[39m\u001b[33mlabel\u001b[39m\u001b[33m\"\u001b[39m].strip().split()))\n",
            "\u001b[36mCell\u001b[39m\u001b[36m \u001b[39m\u001b[32mIn[750]\u001b[39m\u001b[32m, line 36\u001b[39m, in \u001b[36mInkml.__init__\u001b[39m\u001b[34m(self, *args)\u001b[39m\n\u001b[32m     34\u001b[39m \u001b[38;5;28;01mif\u001b[39;00m \u001b[38;5;28mlen\u001b[39m(args) == \u001b[32m1\u001b[39m:\n\u001b[32m     35\u001b[39m     \u001b[38;5;28mself\u001b[39m.fileName = args[\u001b[32m0\u001b[39m]\n\u001b[32m---> \u001b[39m\u001b[32m36\u001b[39m     \u001b[38;5;28;43mself\u001b[39;49m\u001b[43m.\u001b[49m\u001b[43mloadFromFile\u001b[49m\u001b[43m(\u001b[49m\u001b[43m)\u001b[49m\n",
            "\u001b[36mCell\u001b[39m\u001b[36m \u001b[39m\u001b[32mIn[750]\u001b[39m\u001b[32m, line 44\u001b[39m, in \u001b[36mInkml.loadFromFile\u001b[39m\u001b[34m(self)\u001b[39m\n\u001b[32m     42\u001b[39m \u001b[38;5;28;01mdef\u001b[39;00m\u001b[38;5;250m \u001b[39m\u001b[34mloadFromFile\u001b[39m(\u001b[38;5;28mself\u001b[39m):\n\u001b[32m     43\u001b[39m \u001b[38;5;250m    \u001b[39m\u001b[33;03m\"\"\"load the ink from an inkml file (strokes, segments, labels)\"\"\"\u001b[39;00m\n\u001b[32m---> \u001b[39m\u001b[32m44\u001b[39m     tree = \u001b[43mET\u001b[49m\u001b[43m.\u001b[49m\u001b[43mparse\u001b[49m\u001b[43m(\u001b[49m\u001b[38;5;28;43mself\u001b[39;49m\u001b[43m.\u001b[49m\u001b[43mfileName\u001b[49m\u001b[43m)\u001b[49m\n\u001b[32m     45\u001b[39m     \u001b[38;5;66;03m# # ET.register_namespace();\u001b[39;00m\n\u001b[32m     46\u001b[39m     root = tree.getroot()\n",
            "\u001b[36mFile \u001b[39m\u001b[32mc:\\Users\\Dell\\AppData\\Local\\Programs\\Python\\Python313\\Lib\\xml\\etree\\ElementTree.py:1204\u001b[39m, in \u001b[36mparse\u001b[39m\u001b[34m(source, parser)\u001b[39m\n\u001b[32m   1195\u001b[39m \u001b[38;5;250m\u001b[39m\u001b[33;03m\"\"\"Parse XML document into element tree.\u001b[39;00m\n\u001b[32m   1196\u001b[39m \n\u001b[32m   1197\u001b[39m \u001b[33;03m*source* is a filename or file object containing XML data,\u001b[39;00m\n\u001b[32m   (...)\u001b[39m\u001b[32m   1201\u001b[39m \n\u001b[32m   1202\u001b[39m \u001b[33;03m\"\"\"\u001b[39;00m\n\u001b[32m   1203\u001b[39m tree = ElementTree()\n\u001b[32m-> \u001b[39m\u001b[32m1204\u001b[39m \u001b[43mtree\u001b[49m\u001b[43m.\u001b[49m\u001b[43mparse\u001b[49m\u001b[43m(\u001b[49m\u001b[43msource\u001b[49m\u001b[43m,\u001b[49m\u001b[43m \u001b[49m\u001b[43mparser\u001b[49m\u001b[43m)\u001b[49m\n\u001b[32m   1205\u001b[39m \u001b[38;5;28;01mreturn\u001b[39;00m tree\n",
            "\u001b[36mFile \u001b[39m\u001b[32mc:\\Users\\Dell\\AppData\\Local\\Programs\\Python\\Python313\\Lib\\xml\\etree\\ElementTree.py:558\u001b[39m, in \u001b[36mElementTree.parse\u001b[39m\u001b[34m(self, source, parser)\u001b[39m\n\u001b[32m    556\u001b[39m close_source = \u001b[38;5;28;01mFalse\u001b[39;00m\n\u001b[32m    557\u001b[39m \u001b[38;5;28;01mif\u001b[39;00m \u001b[38;5;129;01mnot\u001b[39;00m \u001b[38;5;28mhasattr\u001b[39m(source, \u001b[33m\"\u001b[39m\u001b[33mread\u001b[39m\u001b[33m\"\u001b[39m):\n\u001b[32m--> \u001b[39m\u001b[32m558\u001b[39m     source = \u001b[38;5;28;43mopen\u001b[39;49m\u001b[43m(\u001b[49m\u001b[43msource\u001b[49m\u001b[43m,\u001b[49m\u001b[43m \u001b[49m\u001b[33;43m\"\u001b[39;49m\u001b[33;43mrb\u001b[39;49m\u001b[33;43m\"\u001b[39;49m\u001b[43m)\u001b[49m\n\u001b[32m    559\u001b[39m     close_source = \u001b[38;5;28;01mTrue\u001b[39;00m\n\u001b[32m    560\u001b[39m \u001b[38;5;28;01mtry\u001b[39;00m:\n",
            "\u001b[31mFileNotFoundError\u001b[39m: [Errno 2] No such file or directory: 'D:\\\\VGU\\\\Year 2\\\\Intro_to_DS_AI\\\\HME\\\\Assigment_HME\\\\dataset\\\\crohme2019_train.txt\\\\crohme2019/train/MfrDB2372.inkml'"
          ]
        }
      ],
      "source": [
        "dataset = InkmlDataset(\n",
        "    annotation=[\"D:\\VGU\\Year 2\\Intro_to_DS_AI\\HME\\Assigment_HME\\dataset\\crohme2019_train.txt\"],\n",
        "    root_dir=\"D:\\VGU\\Year 2\\Intro_to_DS_AI\\HME\\Assigment_HME\\dataset\\crohme2019_train.txt\",\n",
        "    vocab=vocab\n",
        ")\n",
        "features, labels, input_lens, label_lens = collate_fn([dataset[0], dataset[1]])\n",
        "\n",
        "import numpy.testing as npt\n",
        "\n",
        "assert type(input_lens) == torch.Tensor\n",
        "assert type(label_lens) == torch.Tensor"
      ]
    },
    {
      "cell_type": "markdown",
      "metadata": {
        "id": "HqdtEV0FGomK"
      },
      "source": [
        "> **TASK:** implement InkmlDataset_PL Lightning Datamodule"
      ]
    },
    {
      "cell_type": "code",
      "execution_count": null,
      "metadata": {
        "id": "7lVgTU25GomK",
        "trusted": true
      },
      "outputs": [],
      "source": [
        "class InkmlDataset_PL(pl.LightningDataModule):\n",
        "    \"\"\"\n",
        "    PyTorch Lightning data module for handling the INKML dataset.\n",
        "    \"\"\"\n",
        "\n",
        "    def __init__(\n",
        "        self,\n",
        "        batch_size: int = 10,\n",
        "        workers: int = 5,\n",
        "        train_data: str = \"\",\n",
        "        val_data: str = \"\",\n",
        "        test_data: str = \"\",\n",
        "        root_dir: str = \"dataset\"\n",
        "    ):\n",
        "        super().__init__()\n",
        "        self.batch_size = batch_size\n",
        "        self.workers = workers\n",
        "        self.train_data = train_data\n",
        "        self.val_data = val_data\n",
        "        self.test_data = test_data\n",
        "        self.root_dir = root_dir\n",
        "\n",
        "    def setup(self, stage=None):\n",
        "        if stage == \"fit\" or stage is None:\n",
        "            self.train_dataset = InkmlDataset(self.train_data, root_dir=self.root_dir)\n",
        "            self.val_dataset = InkmlDataset(self.val_data, root_dir=self.root_dir)\n",
        "        if stage == \"test\" or stage is None:\n",
        "            self.test_dataset = InkmlDataset(self.test_data, root_dir=self.root_dir)\n",
        "\n",
        "    def custom_collate_fn(self, data):\n",
        "        # TODO: provide your custom collate function here.\n",
        "        return padded_traces, padded_labels, len_traces, len_labels\n",
        "\n",
        "    def train_dataloader(self):\n",
        "        return DataLoader(\n",
        "            self.train_dataset,\n",
        "            batch_size=self.batch_size,\n",
        "            num_workers=self.workers,\n",
        "            collate_fn=self.custom_collate_fn,\n",
        "        )\n",
        "\n",
        "    def val_dataloader(self):\n",
        "        return DataLoader(\n",
        "            self.val_dataset,\n",
        "            batch_size=self.batch_size,\n",
        "            num_workers=self.workers,\n",
        "            collate_fn=self.custom_collate_fn,\n",
        "        )\n",
        "\n",
        "    def test_dataloader(self):\n",
        "        return DataLoader(\n",
        "            self.test_dataset,\n",
        "            batch_size=self.batch_size,\n",
        "            num_workers=self.workers,\n",
        "            collate_fn=self.custom_collate_fn,\n",
        "        )"
      ]
    },
    {
      "cell_type": "markdown",
      "metadata": {
        "id": "JzRl-DlmGomL"
      },
      "source": [
        "## Task 4: Build Model\n",
        "\n",
        "In this task, we will build a model that will be used to train the dataset.\n",
        "The model will be a simple RNN with a single layer of Bidirectional LSTM cells. The model will take the input from the dataset and output the predicted sequence of symbols and relations and will use CTC loss to train the model.\n",
        "\n",
        "The model will be built using PyTorch and will use the following architecture\n"
      ]
    },
    {
      "cell_type": "markdown",
      "metadata": {
        "id": "bb_9WrCkGomL"
      },
      "source": [
        "> _We highly recommend you to read through this [tutorial on Creating a model using Pytorch](https://pytorch.org/tutorials/beginner/introyt/modelsyt_tutorial.html) and understand the basic building blocks of a model in PyTorch._"
      ]
    },
    {
      "cell_type": "markdown",
      "metadata": {
        "id": "9SIq1MeSGomL"
      },
      "source": [
        "> _**ATTENTION** Below is the architecture for the model. You must **STRICTLY** follow the architecture and the parameters mentioned below._\n",
        "> | Layer Type         | Configuration                              |\n",
        "> |--------------------|--------------------------------------------|\n",
        "> | Input              | Sequence of vectors with `input_size=4`    |\n",
        "> | LSTM Layer         | `hidden_size=256`, `num_layers=2`          |\n",
        "> |                    | `batch_first=True`                         |\n",
        "> |                    | `bidirectional=True`                       |\n",
        "> | LSTM Output        | Output shape: `(batch_size, seq_len, hidden_size*2)`|\n",
        "> | Fully Connected    | `Linear(hidden_size*2, num_classes)`|\n",
        "> | Activation         | `LogSoftmax(dim=...)`|\n",
        "> | Output             | `(batch_size, seq_len, num_classes)`|\n"
      ]
    },
    {
      "cell_type": "code",
      "execution_count": null,
      "metadata": {
        "id": "Z24pJPawGomL",
        "trusted": true
      },
      "outputs": [],
      "source": [
        "class LSTM_TemporalClassification(nn.Module):\n",
        "    def __init__(self, input_size, hidden_size, num_layers, num_classes):\n",
        "        super(LSTM_TemporalClassification, self).__init__()\n",
        "        # TODO: declare layers here\n",
        "\n",
        "    def forward(self, x):\n",
        "        # TODO: write calculation process here\n",
        "        return x"
      ]
    },
    {
      "cell_type": "code",
      "execution_count": null,
      "metadata": {
        "id": "sBM9L41uGomP",
        "trusted": true
      },
      "outputs": [],
      "source": [
        "# Test your implementation\n",
        "# model = LSTM_TemporalClassification(4, 256, 2, 109)\n",
        "# assert model.forward(torch.rand((10, 100, 4))).shape == (10, 100, 109)"
      ]
    },
    {
      "cell_type": "markdown",
      "metadata": {
        "id": "e6V0E9xSGomP"
      },
      "source": [
        "## Task 5: Understand CTC Loss\n",
        "\n",
        "In this task, we will understand how to use CTC loss to train the model. The CTC loss is used to train the model to predict the sequence of symbols and relations from the input sequence of features.\n",
        "\n",
        "> _For deeper understanding of CTC loss, read this [blog](https://distill.pub/2017/ctc/)_\n",
        "\n",
        "Check out this [Pytorch documentation](https://pytorch.org/docs/stable/generated/torch.nn.CTCLoss.html) to learn more about its implementation.\n",
        "\n",
        "> _Hint: read the expected input and output of the CTC loss function. The input should be of shape `(T, N, C)` where T is the length of the input sequence, N is the batch size, and C is the number of classes. The target should be of shape `(N, S)` where S is the length of the target sequence._\n",
        "\n",
        "After understanding how CTC Loss works, we can proceed to implement it in our model."
      ]
    },
    {
      "cell_type": "markdown",
      "metadata": {
        "id": "qvim4uxsGomP"
      },
      "source": [
        "## Task 6: Build Lightning Module\n",
        "\n",
        "In this task, we will build a Lightning module that will be used to train the model. The Lightning module will mostly be used to define the training and validation steps, as well as the optimizer and learning rate scheduler.\n",
        "\n",
        "> _More on building Lightning module can be found [here](https://lightning.ai/docs/pytorch/stable/common/lightning_module.html). You should read about core methods to know what to implement in your module._"
      ]
    },
    {
      "cell_type": "code",
      "execution_count": null,
      "metadata": {
        "id": "OENCqCIjGomQ",
        "trusted": true
      },
      "outputs": [
        {
          "ename": "SyntaxError",
          "evalue": "invalid syntax (614896752.py, line 15)",
          "output_type": "error",
          "traceback": [
            "  \u001b[36mCell\u001b[39m\u001b[36m \u001b[39m\u001b[32mIn[274]\u001b[39m\u001b[32m, line 15\u001b[39m\n\u001b[31m    \u001b[39m\u001b[31mself.criterion = # TODO: define CTC Loss Function here.\u001b[39m\n                     ^\n\u001b[31mSyntaxError\u001b[39m\u001b[31m:\u001b[39m invalid syntax\n"
          ]
        }
      ],
      "source": [
        "class MathOnlineModel(pl.LightningModule):\n",
        "    def __init__(\n",
        "        self,\n",
        "        lr=0.001,\n",
        "        input_size=4,\n",
        "        output_size=109,\n",
        "        hidden_size=256,\n",
        "        num_layers=2,\n",
        "        decoder=None,\n",
        "    ):\n",
        "        super().__init__()\n",
        "        self.model = LSTM_TemporalClassification(\n",
        "            input_size, hidden_size, num_layers, output_size\n",
        "        )\n",
        "        self.criterion = # TODO: define CTC Loss Function here.\n",
        "        self.lr = lr\n",
        "        self.decoder = decoder\n",
        "\n",
        "    def forward(self, x):\n",
        "        return self.model(x)\n",
        "\n",
        "    def training_step(self, batch, batch_idx):\n",
        "        x, y, x_lens, y_lens = batch\n",
        "\n",
        "        # TODO: your code to calculate loss\n",
        "\n",
        "        self.log(\"train_loss\", loss, prog_bar=True, on_step=True, on_epoch=True)\n",
        "        return loss\n",
        "\n",
        "    def validation_step(self, batch, batch_idx):\n",
        "        x, y, x_lens, y_lens = batch\n",
        "\n",
        "        # TODO: your code to calculate loss\n",
        "\n",
        "        self.log(\"val_loss\", loss, prog_bar=True, on_step=False, on_epoch=True)\n",
        "        return loss\n",
        "\n",
        "    def test_step(self, batch, batch_idx):\n",
        "        x, y, x_lens, y_lens = batch\n",
        "\n",
        "        # TODO: your code to calculate loss\n",
        "\n",
        "        self.log(\"test_loss\", loss, prog_bar=True, on_step=False, on_epoch=True)\n",
        "        return loss\n",
        "\n",
        "    def configure_optimizers(self):\n",
        "        return torch.optim.Adam(self.model.parameters(), lr=self.lr)"
      ]
    },
    {
      "cell_type": "markdown",
      "metadata": {
        "id": "9D8zzyWkGomQ"
      },
      "source": [
        "## Task 7: Train the Model with PyTorch Lightning\n",
        "\n",
        "Read more about Training with PyTorch Lightning [here](https://lightning.ai/docs/pytorch/stable/common/trainer.html) and understand how to use the Trainer class to train the model.\n",
        "\n",
        "From the documentation:\n",
        "\n",
        "> The Lightning Trainer does much more than just “training”. Under the hood, it handles all loop details for you, some examples include:\n",
        "> - Automatically enabling/disabling grads\n",
        "> - Running the training, validation and test dataloaders\n",
        "> - Calling the Callbacks at the appropriate times\n",
        "> - Putting batches and computations on the correct devices"
      ]
    },
    {
      "cell_type": "markdown",
      "metadata": {
        "id": "lpBbmYgyGomQ"
      },
      "source": [
        "> **IMPORTANT**: You must config your WandB logger to log the training and validation metrics. Without this, your work will not be graded."
      ]
    },
    {
      "cell_type": "code",
      "execution_count": null,
      "metadata": {
        "id": "_rA8biO6GomQ",
        "trusted": true
      },
      "outputs": [],
      "source": [
        "student_id = \"10423028\"  # TODO: replace with your student ID\n",
        "api_key = os.environ.get(\"60beb82cede0f97b615179e767601677dfccf44f\", \"\")  # configure your wandb key here\n",
        "\n",
        "if api_key == \"\":\n",
        "    raise ValueError(\"Please set your wandb key in the code or in the environment variable WANDB_API_KEY\")\n",
        "else:\n",
        "    print(\"WandB API key is set. Proceeding with login...\")\n",
        "\n",
        "wandb.login(key=api_key)"
      ]
    },
    {
      "cell_type": "code",
      "execution_count": null,
      "metadata": {
        "id": "tAkmrItVGomQ",
        "trusted": true
      },
      "outputs": [],
      "source": [
        "wandb_logger = WandbLogger(\n",
        "    entity=\"cuong-nt-vgu-ai-2025\",  # DO NOT CHANGE THIS\n",
        "    project=\"math_online_2025\", # DO NOT CHANGE THIS\n",
        "    name=f\"{student_id}_run_1\",\n",
        "    config={\n",
        "        \"student_id\": student_id,  # DO NOT CHANGE THIS\n",
        "        \"model\": \"LSTM_TemporalClassification\",\n",
        "        # your hyperparameters\n",
        "    }\n",
        "    log_model=True,\n",
        "    save_dir=\"wandb_logs\",\n",
        ")\n",
        "\n",
        "trainer = Trainer(\n",
        "    callbacks = [\n",
        "        LearningRateMonitor(logging_interval='step'),\n",
        "        ModelCheckpoint(filename='{epoch}-{val_loss:.4f}', save_top_k=5, monitor='val_loss', mode='min'),\n",
        "    ],\n",
        "    logger = wandb_logger,\n",
        "    check_val_every_n_epoch=1,\n",
        "    fast_dev_run=False,  # enable for testing model\n",
        "    default_root_dir='checkpoint',\n",
        "    deterministic=False,\n",
        "    max_epochs=20,\n",
        "    log_every_n_steps=50,\n",
        "    devices = \"auto\",\n",
        ")\n",
        "model = MathOnlineModel()\n",
        "# model = MathOnlineModel.load_from_checkpoint('path/to/your_checkpoint.ckpt')\n",
        "\n",
        "dm = InkmlDataset_PL(root_dir='dataset',\n",
        "                       train_annotation='',\n",
        "                       validation_annotation='',\n",
        "                       test_annotation='',\n",
        "                       vocab_file='vocab.json',\n",
        "                       batch_size=32,\n",
        "                      num_workers=4\n",
        "                     )\n",
        "\n",
        "trainer.fit(model, dm)"
      ]
    },
    {
      "cell_type": "markdown",
      "metadata": {
        "id": "afGbzkoIGomQ"
      },
      "source": [
        "**Requirements:**\n",
        "- Validation loss (val_loss < 0.7)\n",
        "\n",
        "**Tips on training:**\n",
        "- Debug with **fast_dev_run**:\n",
        "Before run the training process, it is better to make a quick check of training and validation loop. Set fast_dev_run=True, then run the trainer and check if there is any bug exist.\n",
        "- Training initially with **small batch size**:\n",
        "In practice, training with CTC loss converges slowly for large batch size. To accelerate convergence, training with small batch size first, save model, then, train with large batch size.\n",
        "- Train more epochs by setting:\n",
        "\n",
        "```python\n",
        "trainer = Trainer(\n",
        "    ...\n",
        "    max_epochs=20,\n",
        "    ...\n",
        ")\n",
        "```"
      ]
    },
    {
      "cell_type": "markdown",
      "metadata": {
        "id": "QSITSKLPGomQ"
      },
      "source": [
        "## Task 8: Test your model\n",
        "\n",
        "Run the test set and check the accuracy of your model. The test set is used to evaluate the performance of the model on unseen data."
      ]
    },
    {
      "cell_type": "code",
      "execution_count": null,
      "metadata": {
        "id": "3RfWD5ViGomQ",
        "trusted": true
      },
      "outputs": [],
      "source": [
        "trainer = Trainer(\n",
        "    devices=1,\n",
        ")\n",
        "\n",
        "# Load the model from a checkpoint\n",
        "model = MathOnlineModel.load_from_checkpoint(\n",
        "    \"path/to/your_checkpoint.ckpt\",\n",
        ")\n",
        "\n",
        "# Initialize the data module\n",
        "dm = InkmlDataset_PL(\n",
        "    root_dir=\"dataset\",\n",
        "    train_annotation=\"\",\n",
        "    validation_annotation=\"\",\n",
        "    test_annotation=\"\",\n",
        "    vocab_file=\"vocab.json\",\n",
        "    batch_size=32,\n",
        "    num_workers=4,\n",
        ")\n",
        "\n",
        "# Test the model\n",
        "trainer.test(model, datamodule=dm)"
      ]
    },
    {
      "cell_type": "markdown",
      "metadata": {
        "id": "pm8LQ8zPGomQ"
      },
      "source": [
        "## Task 9: Inference\n",
        "\n",
        "The output of networks need to process by a decoding step.\n",
        "\n",
        "- Greedy decode: Your task is to implement greedy decoding method. Which converts the output into a string of symbols and relations (same form with labels). Greedy decoder produce the best path by removing consecutive repeated symbols/relations and then remove \\<blank\\>\n",
        "\n",
        "> **TASK**: Implement the greedy decoder for the model output.\n",
        "\n",
        "Based on GreedyCTCDecoder class from this [link](https://pytorch.org/audio/main/tutorials/asr_inference_with_ctc_decoder_tutorial.html#greedy-decoder), write decoding for an output. Your implementation should handle the output of the model and convert it into a string of symbols and relations, ensuring to remove consecutive repeated symbols/relations and the blank token."
      ]
    },
    {
      "cell_type": "code",
      "execution_count": null,
      "metadata": {
        "id": "W_b6FuMoGomQ",
        "trusted": true
      },
      "outputs": [],
      "source": [
        "class GreedyCTCDecoder(torch.nn.Module):\n",
        "    def __init__(self, vocab):\n",
        "        super().__init__()\n",
        "        self.vocab = vocab\n",
        "        self.blank = vocab.word2index[\"\"]\n",
        "\n",
        "    def forward(self, emission: torch.Tensor) -> list:\n",
        "        \"\"\"Given a sequence emission over labels, get the best path\n",
        "        Args:\n",
        "          emission (Tensor): Logit tensors. Shape `[seq_len, num_label]`.\n",
        "\n",
        "        Returns:\n",
        "          list: The resulting transcript\n",
        "        \"\"\"\n",
        "        # TODO: implement the decoder\n",
        "\n",
        "        return output_seq_list"
      ]
    },
    {
      "cell_type": "markdown",
      "metadata": {
        "id": "job5znglGomQ"
      },
      "source": [
        "Then you can test the output of your model here"
      ]
    },
    {
      "cell_type": "code",
      "execution_count": null,
      "metadata": {
        "id": "vnGy07ShGomR",
        "trusted": true
      },
      "outputs": [],
      "source": [
        "model = MathOnlineModel.load_from_checkpoint('path/to/your_checkpoint.ckpt')\n",
        "model.eval()\n",
        "\n",
        "dataset = InkmlDataset()\n",
        "feature, label, input_len, label_len = dataset.__getitem__(0)\n",
        "\n",
        "vocab = ...\n",
        "greedy_decoder = GreedyCTCDecoder(vocab)\n",
        "\n",
        "decoded_output = greedy_decoder.forward(...)\n",
        "\n",
        "# possible output if your training work well\n",
        "# decoded -> ['\\\\phi', 'Right', '(', 'Right', '0', 'Right', '(', 'Right', 'n', 'Right', ')', 'Right', ')']\n"
      ]
    },
    {
      "cell_type": "markdown",
      "metadata": {
        "id": "x6ps24sSGomR"
      },
      "source": [
        "## Task 10: Implement calculation metric for training"
      ]
    },
    {
      "cell_type": "code",
      "execution_count": null,
      "metadata": {
        "id": "9aJFFU9mGomR",
        "trusted": true
      },
      "outputs": [],
      "source": [
        "def edit_distance(pred_seq: list, label_seq: list):\n",
        "    # TODO: implement Token Edit distance\n",
        "    return distance\n",
        "\n",
        "\n",
        "# Test your implementation\n",
        "assert (\n",
        "    edit_distance(\n",
        "        [\n",
        "            \"\\\\phi\",\n",
        "            \"Right\",\n",
        "            \"(\",\n",
        "            \"Right\",\n",
        "            \"0\",\n",
        "            \"Right\",\n",
        "            \"(\",\n",
        "            \"Right\",\n",
        "            \"n\",\n",
        "            \"Right\",\n",
        "            \")\",\n",
        "            \"Right\",\n",
        "            \")\",\n",
        "        ],\n",
        "        [\n",
        "            \"\\\\phi\",\n",
        "            \"Right\",\n",
        "            \"(\",\n",
        "            \"Right\",\n",
        "            \"\\\\phi\",\n",
        "            \"Right\",\n",
        "            \"(\",\n",
        "            \"Right\",\n",
        "            \"n\",\n",
        "            \"Right\",\n",
        "            \")\",\n",
        "            \"Right\",\n",
        "            \")\",\n",
        "        ],\n",
        "    )\n",
        "    == 1\n",
        ")"
      ]
    },
    {
      "cell_type": "markdown",
      "metadata": {
        "id": "seSAUJUNGomR"
      },
      "source": [
        "> **TASK**: Implement word error rate metric (wer) for training,  validation and testing in your model.\n",
        ">\n",
        "> $wer = \\frac{total\\ edit\\ distance (predict\\ sequence,\\ target\\ sequence)}{total\\ target\\ sequence\\ length}$\n"
      ]
    },
    {
      "cell_type": "markdown",
      "metadata": {
        "id": "lGGm5JufGomR"
      },
      "source": [
        "**Steps to process:**\n",
        "\n",
        "- Decode the predicted sequences to obtain the text output.\n",
        "- Calculate the total edit distance between the predicted and target sequences.\n",
        "- Compute the word error rate using the formula provided.\n",
        "- Log the WER metric during training and validation.\n",
        "\n",
        "**Continue to train the model**\n",
        "\n",
        "- Load the latest trained model:\n",
        "\n",
        "```\n",
        "model = MathOnlineModel.load_from_checkpoint('path/to/your/checkpoint.ckpt')\n",
        "```\n",
        "- Change config of ModelCheckPoint to monitor the new metric (val_wer) instead.\n",
        "\n",
        "```\n",
        "        ModelCheckpoint(filename='{epoch}-{val_loss:.4f}', save_top_k=5, monitor='val_loss', mode='min')\n",
        "        \n",
        "      --> ModelCheckpoint(filename='{epoch}-{val_wer:.4f}', save_top_k=5, monitor='val_wer', mode='min'),\n",
        "\n",
        "```\n"
      ]
    },
    {
      "cell_type": "markdown",
      "metadata": {
        "id": "o9YVut4FGomR"
      },
      "source": [
        "## **BONUS TASKS**\n",
        "\n",
        "The following tasks are optional and can be done for extra credit to the final exam.\n",
        "\n",
        "### **Bonus 1**: Add metric to evaluate accuracy of symbols and relations seperately *(+0.5pt)*\n",
        "\n",
        "**Add the metrics: wer for symbols and wer for relations**\n",
        "```\n",
        "self.log('wer_sym',...)\n",
        "self.log('wer_rel',...)\n",
        "```\n",
        "\n",
        "### **Bonus 2**: Modify loss function to constraint the output of relations at the time step of pen-up *(+1pt)*\n",
        "Modify loss function to constrain the output of relations at the timestep of pen-up.\n",
        "\n",
        "The idea: Provide a masked sequence such that the position of pen-up is masked, the additional loss would penaltize all the relations output to the timestep that has been masked.\n",
        "\n",
        "\n",
        "**Loss function to constraint relation output**\n",
        "\n",
        "```\n",
        "pen_down: a masked sequence, where len(pen_down) = len(input_sequence)\n",
        "        and pen_down[t] == 1 (pen down), pen_down[t] == 0 (pen up)\n",
        "p_rel: total probability of relation outputs for every time step t, len(p_rel) = len(input_sequence), p_rel[t] = sum(p[t][rel] for rel in ['Sub', 'Sup', 'Above', ...])\n",
        "\n",
        "The loss is defined as:\n",
        "\n",
        "    L_{constraint} = -log(1 - sum(p_rel * pen_down))\n",
        "    \n",
        "Explanation:\n",
        "\n",
        "    Minimize L_{constraint} (value range of (-inf, 0)) would make maximize of (1 - sum(p_rel * pen_down)), or making sum(p_rel * mask) -> 0, then it will penalize the relation output on pen_down timesteps.\n",
        "```\n",
        "\n",
        "**Apply constraint loss function with ctc loss**\n",
        "\n",
        "```\n",
        "    L = loss_{ctc} + \\lambda * L_{constraint}\n",
        "    \n",
        "where \\lambda is a weighted parameter to control balance between the two losses.\n",
        "   \n",
        "```\n",
        "\n",
        "\n",
        "You can also find it in a published paper here, section 3.4:\n",
        "https://arxiv.org/pdf/2105.10156\n",
        "\n",
        "### **Bonus 3**: Visualize model prediction by timesteps and probability of softmax outputs *(+0.5pt)*\n",
        "\n",
        "![alt text](https://github.com/fuisl/crohme-ctc/blob/6722b97ec2000afcd16068220f0b1b83b3134ff8/assets/graph_with_prob.png?raw=true)\n",
        "\n",
        "### **Bonus 4**: Use CUDA CTC Decoder to optimize decoding process in model *(+0.5pt)*\n",
        "\n",
        "Follow the instructions via this [link](https://pytorch.org/audio/main/tutorials/asr_inference_with_ctc_decoder_tutorial.html#cuda-ctc-decoder) to implement CUDA CTC decoder in your model."
      ]
    }
  ],
  "metadata": {
    "colab": {
      "include_colab_link": true,
      "provenance": []
    },
    "kaggle": {
      "accelerator": "none",
      "dataSources": [
        {
          "datasetId": 5142469,
          "sourceId": 8596073,
          "sourceType": "datasetVersion"
        }
      ],
      "dockerImageVersionId": 31012,
      "isGpuEnabled": false,
      "isInternetEnabled": true,
      "language": "python",
      "sourceType": "notebook"
    },
    "kernelspec": {
      "display_name": "Python 3",
      "language": "python",
      "name": "python3"
    },
    "language_info": {
      "codemirror_mode": {
        "name": "ipython",
        "version": 3
      },
      "file_extension": ".py",
      "mimetype": "text/x-python",
      "name": "python",
      "nbconvert_exporter": "python",
      "pygments_lexer": "ipython3",
      "version": "3.13.3"
    }
  },
  "nbformat": 4,
  "nbformat_minor": 0
}
